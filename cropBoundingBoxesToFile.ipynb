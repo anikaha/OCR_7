{
  "nbformat": 4,
  "nbformat_minor": 0,
  "metadata": {
    "colab": {
      "name": "cropBoundingBoxesToFile.ipynb",
      "provenance": [],
      "authorship_tag": "ABX9TyMPxtFtfmHVzvnK8juPIocK",
      "include_colab_link": true
    },
    "kernelspec": {
      "name": "python3",
      "display_name": "Python 3"
    },
    "language_info": {
      "name": "python"
    }
  },
  "cells": [
    {
      "cell_type": "markdown",
      "metadata": {
        "id": "view-in-github",
        "colab_type": "text"
      },
      "source": [
        "<a href=\"https://colab.research.google.com/github/anikaha/OCR_7/blob/main/cropBoundingBoxesToFile.ipynb\" target=\"_parent\"><img src=\"https://colab.research.google.com/assets/colab-badge.svg\" alt=\"Open In Colab\"/></a>"
      ]
    },
    {
      "cell_type": "code",
      "execution_count": 18,
      "metadata": {
        "id": "zkHrVqBs24rk"
      },
      "outputs": [],
      "source": [
        "# Import all library\n",
        "import imageio\n",
        "import pandas as pd\n",
        "import numpy as np\n",
        "import os\n",
        "import glob\n",
        "import cv2\n",
        "import shutil\n",
        "\n",
        "import imgaug as ia\n",
        "ia.seed(1)\n",
        "# imgaug uses matplotlib backend for displaying images\n",
        "%matplotlib inline\n",
        "from imgaug.augmentables.bbs import BoundingBox, BoundingBoxesOnImage"
      ]
    },
    {
      "cell_type": "code",
      "source": [
        "from google.colab import drive\n",
        "drive.mount('/content/drive')"
      ],
      "metadata": {
        "id": "-VQc3k4k4ICN"
      },
      "execution_count": null,
      "outputs": []
    },
    {
      "cell_type": "code",
      "source": [
        "# Load CSV data ino df\n",
        "df_data = pd.read_csv ('/content/drive/MyDrive/labels.csv')\n",
        "df_data"
      ],
      "metadata": {
        "id": "qm6A2VKO4LR7"
      },
      "execution_count": null,
      "outputs": []
    },
    {
      "cell_type": "code",
      "source": [
        "!unzip '/content/drive/MyDrive/OCR.zip' -d '/tmp/OCR'"
      ],
      "metadata": {
        "id": "fi-LrVYC7LsW"
      },
      "execution_count": null,
      "outputs": []
    },
    {
      "cell_type": "code",
      "source": [
        "data_path = '/tmp/OCR/ImageAndXML_Data/'"
      ],
      "metadata": {
        "id": "xzYn6VK67VgH"
      },
      "execution_count": 7,
      "outputs": []
    },
    {
      "cell_type": "markdown",
      "source": [
        "Show data and its bounding boxes"
      ],
      "metadata": {
        "id": "kTpQ3XNpw1Iw"
      }
    },
    {
      "cell_type": "code",
      "source": [
        "grouped = df_data.groupby('filename')\n",
        "# we can pull each group with get_group() using the filename\n",
        "\n",
        "group_df = grouped.get_group('92214362.tif')\n",
        "group_df = group_df.reset_index()\n",
        "group_df = group_df.drop(['index'], axis=1)\n",
        "group_df"
      ],
      "metadata": {
        "id": "sbR8dxe47d6J"
      },
      "execution_count": null,
      "outputs": []
    },
    {
      "cell_type": "code",
      "source": [
        "# get bounding boxes coordinates from grouped data frame and write into array        \n",
        "bb_array1 = group_df.drop(['filename', 'width', 'height', 'id_big', 'xmin2', 'ymin2', 'xmax2', 'ymax2', 'conf', 'unicode'], axis=1).values\n",
        "# display the array we've got\n",
        "bb_array1 = np.unique(bb_array1, axis=0)\n",
        "bb_array1"
      ],
      "metadata": {
        "id": "_VJfmY_cGiDI"
      },
      "execution_count": null,
      "outputs": []
    },
    {
      "cell_type": "code",
      "source": [
        "# pass the array of bounding boxes coordinates to the imgaug library\n",
        "im = imageio.imread(os.path.join(data_path,\"92214362.tif\"))\n",
        "bbs = BoundingBoxesOnImage.from_xyxy_array(bb_array1, shape=im.shape)\n",
        "# display the image and draw bounding boxes\n",
        "backtorgb = cv2.cvtColor(im,cv2.COLOR_GRAY2RGB)\n",
        "a = bbs.draw_on_image(backtorgb)\n",
        "ia.imshow(a)"
      ],
      "metadata": {
        "id": "TPlmCxfyHmYq"
      },
      "execution_count": null,
      "outputs": []
    },
    {
      "cell_type": "code",
      "source": [
        "# get bounding boxes coordinates from grouped data frame and write into array        \n",
        "bb_array = group_df.drop(['filename', 'width', 'height', 'id_big', 'xmin', 'ymin', 'xmax', 'ymax', 'conf', 'unicode'], axis=1).values\n",
        "# display the array we've got\n",
        "bb_array"
      ],
      "metadata": {
        "id": "Hp08ZhAHBiZl"
      },
      "execution_count": null,
      "outputs": []
    },
    {
      "cell_type": "code",
      "source": [
        "# pass the array of bounding boxes coordinates to the imgaug library\n",
        "im = imageio.imread(os.path.join(data_path,\"92214362.tif\"))\n",
        "bbs = BoundingBoxesOnImage.from_xyxy_array(bb_array, shape=im.shape)\n",
        "# display the image and draw bounding boxes\n",
        "backtorgb = cv2.cvtColor(im,cv2.COLOR_GRAY2RGB)\n",
        "a = bbs.draw_on_image(backtorgb)\n",
        "ia.imshow(a)"
      ],
      "metadata": {
        "id": "PYTLLN3_Am8t"
      },
      "execution_count": null,
      "outputs": []
    },
    {
      "cell_type": "markdown",
      "source": [
        "Crop all files into small files based on its bounding box"
      ],
      "metadata": {
        "id": "7c2lsEEQxQC9"
      }
    },
    {
      "cell_type": "code",
      "source": [
        "# all filenames\n",
        "all_filenames = df_data['filename'].unique()\n",
        "# crop all big box boxes into file\n",
        "df_bigBox = df_data.drop(['xmin2', 'ymin2', 'xmax2', 'ymax2', 'conf', 'unicode'], axis=1)\n",
        "df_bigBox = df_bigBox.drop_duplicates()\n",
        "print(df_bigBox)\n",
        "if not os.path.exists(\"/tmp/OCR/crop_big\"):\n",
        "  os.makedirs(\"/tmp/OCR/crop_big\")\n",
        "for index,row in df_bigBox.iterrows():\n",
        "  (filename, width, height, id_big, xmin, ymin, xmax, ymax) = row\n",
        "  im_path = os.path.join(data_path, filename)\n",
        "  img = imageio.imread(im_path)\n",
        "  img2 = img[ymin:ymax, xmin:xmax, ...]\n",
        "  filename_o = os.path.join(\"/tmp/OCR/crop_big\",(filename+\"_\"+id_big+\".png\"))\n",
        "  imageio.imwrite(filename_o,img2)"
      ],
      "metadata": {
        "id": "SSaleYDoH3i2"
      },
      "execution_count": null,
      "outputs": []
    },
    {
      "cell_type": "code",
      "source": [
        "!cp -R '/tmp/OCR/crop_big' '/content/drive/MyDrive/OCR'"
      ],
      "metadata": {
        "id": "0nceaDBqeZEw"
      },
      "execution_count": 66,
      "outputs": []
    },
    {
      "cell_type": "code",
      "source": [
        "# crop all small box boxes into file\n",
        "df_smallBox = df_data.drop(['id_big', 'xmin', 'ymin', 'xmax', 'ymax'], axis=1)\n",
        "#print(df_smallBox)\n",
        "\n",
        "if not os.path.exists(\"/tmp/OCR/crop_small\"):\n",
        "  os.makedirs(\"/tmp/OCR/crop_small\")\n",
        "for index,row in df_smallBox.iterrows():\n",
        "  (filename, width, height, xmin, ymin, xmax, ymax, conf, unicod) = row\n",
        "  im_path = os.path.join(data_path, filename)\n",
        "  img = imageio.imread(im_path)\n",
        "  img2 = img[ymin:ymax, xmin:xmax, ...]\n",
        "  unicod = str(unicod).replace(\"/\", \"~\")\n",
        "\n",
        "  filename_o = os.path.join(\"/tmp/OCR/crop_small\",(str(unicod)+\"_\"+str(conf)+\".png\"))\n",
        "  print(filename_o)\n",
        "  imageio.imwrite(filename_o,img2)\n"
      ],
      "metadata": {
        "id": "d5ucOpZpGYTt"
      },
      "execution_count": null,
      "outputs": []
    },
    {
      "cell_type": "code",
      "source": [
        "!cp -R '/tmp/OCR/crop_small' '/content/drive/MyDrive/OCR'"
      ],
      "metadata": {
        "id": "oBYmuUuFltUU"
      },
      "execution_count": 75,
      "outputs": []
    }
  ]
}