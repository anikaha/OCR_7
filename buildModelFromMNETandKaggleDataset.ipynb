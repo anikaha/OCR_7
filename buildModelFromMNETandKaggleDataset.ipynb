{
  "nbformat": 4,
  "nbformat_minor": 0,
  "metadata": {
    "colab": {
      "name": "buildModelFromMNETandKaggleDataset.ipynb",
      "provenance": [],
      "collapsed_sections": [],
      "include_colab_link": true
    },
    "kernelspec": {
      "display_name": "Python 3",
      "name": "python3"
    },
    "language_info": {
      "name": "python"
    },
    "accelerator": "GPU",
    "gpuClass": "standard"
  },
  "cells": [
    {
      "cell_type": "markdown",
      "metadata": {
        "id": "view-in-github",
        "colab_type": "text"
      },
      "source": [
        "<a href=\"https://colab.research.google.com/github/anikaha/OCR_7/blob/main/buildModelFromMNETandKaggleDataset.ipynb\" target=\"_parent\"><img src=\"https://colab.research.google.com/assets/colab-badge.svg\" alt=\"Open In Colab\"/></a>"
      ]
    },
    {
      "cell_type": "code",
      "metadata": {
        "colab": {
          "base_uri": "https://localhost:8080/"
        },
        "id": "BNjXCBqjhQDr",
        "outputId": "ad3ac257-73e5-4e21-f88f-b780f8a722d2"
      },
      "source": [
        "from google.colab import drive\n",
        "drive.mount('/gdrive')"
      ],
      "execution_count": 34,
      "outputs": [
        {
          "output_type": "stream",
          "name": "stdout",
          "text": [
            "Drive already mounted at /gdrive; to attempt to forcibly remount, call drive.mount(\"/gdrive\", force_remount=True).\n"
          ]
        }
      ]
    },
    {
      "cell_type": "code",
      "metadata": {
        "id": "N_wWDim4dnAd"
      },
      "source": [
        "import pandas as pd\n",
        "import numpy as np"
      ],
      "execution_count": 2,
      "outputs": []
    },
    {
      "cell_type": "code",
      "metadata": {
        "id": "OsEcm0EddwyU"
      },
      "source": [
        "from tensorflow.keras.datasets import mnist\n",
        "import numpy as np"
      ],
      "execution_count": 3,
      "outputs": []
    },
    {
      "cell_type": "markdown",
      "metadata": {
        "id": "F2YtTZTsxtNf"
      },
      "source": [
        "##Load MNIST dataset"
      ]
    },
    {
      "cell_type": "code",
      "metadata": {
        "id": "NElCV6x2d8uA"
      },
      "source": [
        "def load_mnist_dataset():\n",
        "\t((trainData, trainLabels), (testData, testLabels)) = mnist.load_data()\n",
        "\tdata = np.vstack([trainData, testData])\n",
        "\tlabels = np.hstack([trainLabels, testLabels])\n",
        "\t# return a 2-tuple of the MNIST data and labels\n",
        "\treturn (data, labels)"
      ],
      "execution_count": 4,
      "outputs": []
    },
    {
      "cell_type": "code",
      "metadata": {
        "id": "Y0Zmq0VoeJUm"
      },
      "source": [
        "import matplotlib\n",
        "matplotlib.use(\"Agg\")"
      ],
      "execution_count": 5,
      "outputs": []
    },
    {
      "cell_type": "code",
      "metadata": {
        "id": "0Yvt1xCReMJx"
      },
      "source": [
        "from tensorflow.keras.preprocessing.image import ImageDataGenerator\n",
        "from tensorflow.keras.optimizers import SGD\n",
        "from sklearn.preprocessing import LabelBinarizer\n",
        "from sklearn.model_selection import train_test_split\n",
        "from sklearn.metrics import classification_report"
      ],
      "execution_count": 6,
      "outputs": []
    },
    {
      "cell_type": "code",
      "metadata": {
        "id": "aRqFXcWGeV7N"
      },
      "source": [
        "from imutils import build_montages\n",
        "import matplotlib.pyplot as plt\n",
        "import numpy as np\n",
        "import argparse\n",
        "import cv2\n",
        "from google.colab.patches import cv2_imshow"
      ],
      "execution_count": 7,
      "outputs": []
    },
    {
      "cell_type": "code",
      "metadata": {
        "id": "84NsMkdEeYA2"
      },
      "source": [
        "EPOCHS = 50\n",
        "INIT_LR = 1e-1\n",
        "BS = 128"
      ],
      "execution_count": 8,
      "outputs": []
    },
    {
      "cell_type": "code",
      "metadata": {
        "id": "h_EtO5C_sMtl"
      },
      "source": [
        "#A-sample1"
      ],
      "execution_count": 9,
      "outputs": []
    },
    {
      "cell_type": "code",
      "metadata": {
        "id": "2hdrsS9KwdyS",
        "colab": {
          "base_uri": "https://localhost:8080/",
          "height": 35
        },
        "outputId": "03aa8e06-aead-4541-aed1-90b66f10f50f"
      },
      "source": [
        "\"\"\"label[0]=A\n",
        "images[0]=A\"\"\""
      ],
      "execution_count": 10,
      "outputs": [
        {
          "output_type": "execute_result",
          "data": {
            "text/plain": [
              "'label[0]=A\\nimages[0]=A'"
            ],
            "application/vnd.google.colaboratory.intrinsic+json": {
              "type": "string"
            }
          },
          "metadata": {},
          "execution_count": 10
        }
      ]
    },
    {
      "cell_type": "markdown",
      "metadata": {
        "id": "pqFdHcdqyEnD"
      },
      "source": [
        "##Load A-Z Handwritten dataset\n",
        "link of the dataset  :-"
      ]
    },
    {
      "cell_type": "code",
      "metadata": {
        "id": "i1F6OHH5fTxb"
      },
      "source": [
        "def load_az_dataset(datasetPath):\n",
        "  data = []\n",
        "  labels = []\n",
        "  for row in open(datasetPath):\n",
        "    row = row.split(\",\")\n",
        "    label = int(row[0])\n",
        "    image = np.array([int(x) for x in row[1:]], dtype=\"uint8\")\n",
        "    image = image.reshape((28, 28))\n",
        "    data.append(image)\n",
        "    labels.append(label)\n",
        "  data = np.array(data, dtype='float32')\n",
        "  labels = np.array(labels, dtype=\"int\")\n",
        "  return (data, labels)"
      ],
      "execution_count": 9,
      "outputs": []
    },
    {
      "cell_type": "code",
      "metadata": {
        "colab": {
          "base_uri": "https://localhost:8080/"
        },
        "id": "8fFmVLVNejR9",
        "outputId": "42bb3111-7f05-4ed5-a64d-cdc8a3f00181"
      },
      "source": [
        "(digitsData, digitsLabels) = load_mnist_dataset()\n",
        "(azData, azLabels) = load_az_dataset('/gdrive/MyDrive/OCR/A-Z_HandwrittenData.csv')\n"
      ],
      "execution_count": 10,
      "outputs": [
        {
          "output_type": "stream",
          "name": "stdout",
          "text": [
            "Downloading data from https://storage.googleapis.com/tensorflow/tf-keras-datasets/mnist.npz\n",
            "11493376/11490434 [==============================] - 0s 0us/step\n",
            "11501568/11490434 [==============================] - 0s 0us/step\n"
          ]
        }
      ]
    },
    {
      "cell_type": "code",
      "metadata": {
        "colab": {
          "base_uri": "https://localhost:8080/"
        },
        "id": "GF7O7cD7wG8t",
        "outputId": "1d4ea3df-4b36-44e2-f375-923f5ac4bfca"
      },
      "source": [
        "digitsData[0].shape"
      ],
      "execution_count": 11,
      "outputs": [
        {
          "output_type": "execute_result",
          "data": {
            "text/plain": [
              "(28, 28)"
            ]
          },
          "metadata": {},
          "execution_count": 11
        }
      ]
    },
    {
      "cell_type": "code",
      "metadata": {
        "id": "Dk4ABWPniW1v"
      },
      "source": [
        "# the MNIST dataset occupies the labels 0-9, so let's add 10 to every\n",
        "# A-Z label to ensure the A-Z characters are not incorrectly labeled\n",
        "# as digits\n",
        "azLabels += 10\n",
        "# stack the A-Z data and labels with the MNIST digits data and labels\n",
        "data = np.vstack([azData, digitsData])\n",
        "labels = np.hstack([azLabels, digitsLabels])\n",
        "# each image in the A-Z and MNIST digts datasets are 28x28 pixels;\n",
        "# however, the architecture we're using is designed for 32x32 images,\n",
        "# so we need to resize them to 32x32\n",
        "data = [cv2.resize(image, (32, 32)) for image in data]\n",
        "data = np.array(data, dtype=\"float32\")\n",
        "# add a channel dimension to every image in the dataset and scale the\n",
        "# pixel intensities of the images from [0, 255] down to [0, 1]\n",
        "data = np.expand_dims(data, axis=-1)\n",
        "data /= 255.0"
      ],
      "execution_count": 12,
      "outputs": []
    },
    {
      "cell_type": "code",
      "metadata": {
        "id": "ea3IN6pdifB1"
      },
      "source": [
        "# convert the labels from integers to vectors\n",
        "le = LabelBinarizer()\n",
        "labels = le.fit_transform(labels)\n",
        "counts = labels.sum(axis=0)\n",
        "# account for skew in the labeled data\n",
        "classTotals = labels.sum(axis=0)\n",
        "classWeight = {}\n",
        "# loop over all classes and calculate the class weight\n",
        "for i in range(0, len(classTotals)):\n",
        "\tclassWeight[i] = classTotals.max() / classTotals[i]\n",
        "# partition the data into training and testing splits using 80% of\n",
        "# the data for training and the remaining 20% for testing\n",
        "(trainX, testX, trainY, testY) = train_test_split(data,\n",
        "\tlabels, test_size=0.20, stratify=labels, random_state=42)"
      ],
      "execution_count": 13,
      "outputs": []
    },
    {
      "cell_type": "markdown",
      "metadata": {
        "id": "iFxytVXYye2I"
      },
      "source": [
        "##Data Augmentation"
      ]
    },
    {
      "cell_type": "code",
      "metadata": {
        "id": "vL37wq5tileP"
      },
      "source": [
        "# construct the image generator for data augmentation\n",
        "aug = ImageDataGenerator(\n",
        "\trotation_range=10,\n",
        "\tzoom_range=0.05,\n",
        "\twidth_shift_range=0.1,\n",
        "\theight_shift_range=0.1,\n",
        "\tshear_range=0.15,\n",
        "\thorizontal_flip=False,\n",
        "\tfill_mode=\"nearest\")\n"
      ],
      "execution_count": 14,
      "outputs": []
    },
    {
      "cell_type": "markdown",
      "metadata": {
        "id": "_r-qnDL-0DI2"
      },
      "source": [
        "##Building Resnet Architecture"
      ]
    },
    {
      "cell_type": "code",
      "metadata": {
        "id": "hy0eTPIvmBjj"
      },
      "source": [
        "from keras.layers import BatchNormalization\n",
        "from keras.layers.convolutional import Conv2D\n",
        "from keras.layers.convolutional import AveragePooling2D\n",
        "from keras.layers.convolutional import MaxPooling2D\n",
        "from keras.layers.convolutional import ZeroPadding2D\n",
        "from keras.layers.core import Activation\n",
        "from keras.layers.core import Dense\n",
        "from keras.layers import Flatten\n",
        "from keras.layers import Input\n",
        "from keras.models import Model\n",
        "from keras.layers import add\n",
        "from keras.regularizers import l2\n",
        "from keras import backend as K\n",
        "\n",
        "class ResNet:\n",
        "\t@staticmethod\n",
        "\tdef residual_module(data, K, stride, chanDim, red=False,\n",
        "\t\treg=0.0001, bnEps=2e-5, bnMom=0.9):\n",
        "\t\t# the shortcut branch of the ResNet module should be\n",
        "\t\t# initialize as the input (identity) data\n",
        "\t\tshortcut = data\n",
        "\n",
        "\t\t# the first block of the ResNet module are the 1x1 CONVs\n",
        "\t\tbn1 = BatchNormalization(axis=chanDim, epsilon=bnEps,\n",
        "\t\t\tmomentum=bnMom)(data)\n",
        "\t\tact1 = Activation(\"relu\")(bn1)\n",
        "\t\tconv1 = Conv2D(int(K * 0.25), (1, 1), use_bias=False,\n",
        "\t\t\tkernel_regularizer=l2(reg))(act1)\n",
        "\n",
        "\t\t# the second block of the ResNet module are the 3x3 CONVs\n",
        "\t\tbn2 = BatchNormalization(axis=chanDim, epsilon=bnEps,\n",
        "\t\t\tmomentum=bnMom)(conv1)\n",
        "\t\tact2 = Activation(\"relu\")(bn2)\n",
        "\t\tconv2 = Conv2D(int(K * 0.25), (3, 3), strides=stride,\n",
        "\t\t\tpadding=\"same\", use_bias=False,\n",
        "\t\t\tkernel_regularizer=l2(reg))(act2)\n",
        "\n",
        "\t\t# the third block of the ResNet module is another set of 1x1\n",
        "\t\t# CONVs\n",
        "\t\tbn3 = BatchNormalization(axis=chanDim, epsilon=bnEps,\n",
        "\t\t\tmomentum=bnMom)(conv2)\n",
        "\t\tact3 = Activation(\"relu\")(bn3)\n",
        "\t\tconv3 = Conv2D(K, (1, 1), use_bias=False,\n",
        "\t\t\tkernel_regularizer=l2(reg))(act3)\n",
        "\n",
        "\t\t# if we are to reduce the spatial size, apply a CONV layer to\n",
        "\t\t# the shortcut\n",
        "\t\tif red:\n",
        "\t\t\tshortcut = Conv2D(K, (1, 1), strides=stride,\n",
        "\t\t\t\tuse_bias=False, kernel_regularizer=l2(reg))(act1)\n",
        "\n",
        "\t\t# add together the shortcut and the final CONV\n",
        "\t\tx = add([conv3, shortcut])\n",
        "\n",
        "\t\t# return the addition as the output of the ResNet module\n",
        "\t\treturn x\n",
        "\n",
        "\t@staticmethod\n",
        "\tdef build(width, height, depth, classes, stages, filters,\n",
        "\t\treg=0.0001, bnEps=2e-5, bnMom=0.9, dataset=\"cifar\"):\n",
        "\t\t# initialize the input shape to be \"channels last\" and the\n",
        "\t\t# channels dimension itself\n",
        "\t\tinputShape = (height, width, depth)\n",
        "\t\tchanDim = -1\n",
        "\n",
        "\t\t# if we are using \"channels first\", update the input shape\n",
        "\t\t# and channels dimension\n",
        "\t\tif K.image_data_format() == \"channels_first\":\n",
        "\t\t\tinputShape = (depth, height, width)\n",
        "\t\t\tchanDim = 1\n",
        "\n",
        "\t\t# set the input and apply BN\n",
        "\t\tinputs = Input(shape=inputShape)\n",
        "\t\tx = BatchNormalization(axis=chanDim, epsilon=bnEps,\n",
        "\t\t\tmomentum=bnMom)(inputs)\n",
        "\n",
        "\t\t# check if we are utilizing the CIFAR dataset\n",
        "\t\tif dataset == \"cifar\":\n",
        "\t\t\t# apply a single CONV layer\n",
        "\t\t\tx = Conv2D(filters[0], (3, 3), use_bias=False,\n",
        "\t\t\t\tpadding=\"same\", kernel_regularizer=l2(reg))(x)\n",
        "\n",
        "\t\t# check to see if we are using the Tiny ImageNet dataset\n",
        "\t\telif dataset == \"tiny_imagenet\":\n",
        "\t\t\t# apply CONV => BN => ACT => POOL to reduce spatial size\n",
        "\t\t\tx = Conv2D(filters[0], (5, 5), use_bias=False,\n",
        "\t\t\t\tpadding=\"same\", kernel_regularizer=l2(reg))(x)\n",
        "\t\t\tx = BatchNormalization(axis=chanDim, epsilon=bnEps,\n",
        "\t\t\t\tmomentum=bnMom)(x)\n",
        "\t\t\tx = Activation(\"relu\")(x)\n",
        "\t\t\tx = ZeroPadding2D((1, 1))(x)\n",
        "\t\t\tx = MaxPooling2D((3, 3), strides=(2, 2))(x)\n",
        "\n",
        "\t\t# loop over the number of stages\n",
        "\t\tfor i in range(0, len(stages)):\n",
        "\t\t\t# initialize the stride, then apply a residual module\n",
        "\t\t\t# used to reduce the spatial size of the input volume\n",
        "\t\t\tstride = (1, 1) if i == 0 else (2, 2)\n",
        "\t\t\tx = ResNet.residual_module(x, filters[i + 1], stride,\n",
        "\t\t\t\tchanDim, red=True, bnEps=bnEps, bnMom=bnMom)\n",
        "\n",
        "\t\t\t# loop over the number of layers in the stage\n",
        "\t\t\tfor j in range(0, stages[i] - 1):\n",
        "\t\t\t\t# apply a ResNet module\n",
        "\t\t\t\tx = ResNet.residual_module(x, filters[i + 1],\n",
        "\t\t\t\t\t(1, 1), chanDim, bnEps=bnEps, bnMom=bnMom)\n",
        "\n",
        "\t\t# apply BN => ACT => POOL\n",
        "\t\tx = BatchNormalization(axis=chanDim, epsilon=bnEps,\n",
        "\t\t\tmomentum=bnMom)(x)\n",
        "\t\tx = Activation(\"relu\")(x)\n",
        "\t\tx = AveragePooling2D((8, 8))(x)\n",
        "\n",
        "\t\t# softmax classifier\n",
        "\t\tx = Flatten()(x)\n",
        "\t\tx = Dense(classes, kernel_regularizer=l2(reg))(x)\n",
        "\t\tx = Activation(\"softmax\")(x)\n",
        "\n",
        "\t\t# create the model\n",
        "\t\tmodel = Model(inputs, x, name=\"resnet\")\n",
        "\n",
        "\t\t# return the constructed network architecture\n",
        "\t\treturn model"
      ],
      "execution_count": 15,
      "outputs": []
    },
    {
      "cell_type": "code",
      "metadata": {
        "colab": {
          "base_uri": "https://localhost:8080/"
        },
        "id": "ks3ymLFlivAw",
        "outputId": "1cd0dc45-3c68-4b2c-c9d4-97a416dbbe20"
      },
      "source": [
        "print(\"[INFO] compiling model...\")\n",
        "opt = SGD(learning_rate=INIT_LR, decay=INIT_LR / EPOCHS)\n",
        "model = ResNet.build(32, 32, 1, len(le.classes_), (3, 3, 3),\n",
        "\t(64, 64, 128, 256), reg=0.0005)\n",
        "model.compile(loss=\"categorical_crossentropy\", optimizer=opt,\n",
        "\tmetrics=[\"accuracy\"])"
      ],
      "execution_count": 16,
      "outputs": [
        {
          "output_type": "stream",
          "name": "stdout",
          "text": [
            "[INFO] compiling model...\n"
          ]
        }
      ]
    },
    {
      "cell_type": "code",
      "metadata": {
        "id": "nLGYR6yGHkgX",
        "colab": {
          "base_uri": "https://localhost:8080/",
          "height": 328
        },
        "outputId": "79e1e136-d1c8-4319-9b5f-c90c2a9a1f9b"
      },
      "source": [
        "model.load_weights('/gdrive/MyDrive/OCR/OCR_Resnet')"
      ],
      "execution_count": 17,
      "outputs": [
        {
          "output_type": "error",
          "ename": "NotFoundError",
          "evalue": "ignored",
          "traceback": [
            "\u001b[0;31m---------------------------------------------------------------------------\u001b[0m",
            "\u001b[0;31mNotFoundError\u001b[0m                             Traceback (most recent call last)",
            "\u001b[0;32m<ipython-input-17-901a3916c33d>\u001b[0m in \u001b[0;36m<module>\u001b[0;34m()\u001b[0m\n\u001b[0;32m----> 1\u001b[0;31m \u001b[0mmodel\u001b[0m\u001b[0;34m.\u001b[0m\u001b[0mload_weights\u001b[0m\u001b[0;34m(\u001b[0m\u001b[0;34m'/gdrive/MyDrive/OCR/OCR_Resnet'\u001b[0m\u001b[0;34m)\u001b[0m\u001b[0;34m\u001b[0m\u001b[0;34m\u001b[0m\u001b[0m\n\u001b[0m",
            "\u001b[0;32m/usr/local/lib/python3.7/dist-packages/keras/utils/traceback_utils.py\u001b[0m in \u001b[0;36merror_handler\u001b[0;34m(*args, **kwargs)\u001b[0m\n\u001b[1;32m     65\u001b[0m     \u001b[0;32mexcept\u001b[0m \u001b[0mException\u001b[0m \u001b[0;32mas\u001b[0m \u001b[0me\u001b[0m\u001b[0;34m:\u001b[0m  \u001b[0;31m# pylint: disable=broad-except\u001b[0m\u001b[0;34m\u001b[0m\u001b[0;34m\u001b[0m\u001b[0m\n\u001b[1;32m     66\u001b[0m       \u001b[0mfiltered_tb\u001b[0m \u001b[0;34m=\u001b[0m \u001b[0m_process_traceback_frames\u001b[0m\u001b[0;34m(\u001b[0m\u001b[0me\u001b[0m\u001b[0;34m.\u001b[0m\u001b[0m__traceback__\u001b[0m\u001b[0;34m)\u001b[0m\u001b[0;34m\u001b[0m\u001b[0;34m\u001b[0m\u001b[0m\n\u001b[0;32m---> 67\u001b[0;31m       \u001b[0;32mraise\u001b[0m \u001b[0me\u001b[0m\u001b[0;34m.\u001b[0m\u001b[0mwith_traceback\u001b[0m\u001b[0;34m(\u001b[0m\u001b[0mfiltered_tb\u001b[0m\u001b[0;34m)\u001b[0m \u001b[0;32mfrom\u001b[0m \u001b[0;32mNone\u001b[0m\u001b[0;34m\u001b[0m\u001b[0;34m\u001b[0m\u001b[0m\n\u001b[0m\u001b[1;32m     68\u001b[0m     \u001b[0;32mfinally\u001b[0m\u001b[0;34m:\u001b[0m\u001b[0;34m\u001b[0m\u001b[0;34m\u001b[0m\u001b[0m\n\u001b[1;32m     69\u001b[0m       \u001b[0;32mdel\u001b[0m \u001b[0mfiltered_tb\u001b[0m\u001b[0;34m\u001b[0m\u001b[0;34m\u001b[0m\u001b[0m\n",
            "\u001b[0;32m/usr/local/lib/python3.7/dist-packages/tensorflow/python/training/py_checkpoint_reader.py\u001b[0m in \u001b[0;36merror_translator\u001b[0;34m(e)\u001b[0m\n\u001b[1;32m     29\u001b[0m       \u001b[0;34m'Failed to find any '\u001b[0m\u001b[0;34m\u001b[0m\u001b[0;34m\u001b[0m\u001b[0m\n\u001b[1;32m     30\u001b[0m       'matching files for') in error_message:\n\u001b[0;32m---> 31\u001b[0;31m     \u001b[0;32mraise\u001b[0m \u001b[0merrors_impl\u001b[0m\u001b[0;34m.\u001b[0m\u001b[0mNotFoundError\u001b[0m\u001b[0;34m(\u001b[0m\u001b[0;32mNone\u001b[0m\u001b[0;34m,\u001b[0m \u001b[0;32mNone\u001b[0m\u001b[0;34m,\u001b[0m \u001b[0merror_message\u001b[0m\u001b[0;34m)\u001b[0m\u001b[0;34m\u001b[0m\u001b[0;34m\u001b[0m\u001b[0m\n\u001b[0m\u001b[1;32m     32\u001b[0m   elif 'Sliced checkpoints are not supported' in error_message or (\n\u001b[1;32m     33\u001b[0m       \u001b[0;34m'Data type '\u001b[0m\u001b[0;34m\u001b[0m\u001b[0;34m\u001b[0m\u001b[0m\n",
            "\u001b[0;31mNotFoundError\u001b[0m: Unsuccessful TensorSliceReader constructor: Failed to find any matching files for /gdrive/MyDrive/OCR/OCR_Resnet"
          ]
        }
      ]
    },
    {
      "cell_type": "markdown",
      "metadata": {
        "id": "8zTtQ2Tj0WNV"
      },
      "source": [
        "##Fit the model"
      ]
    },
    {
      "cell_type": "code",
      "metadata": {
        "colab": {
          "base_uri": "https://localhost:8080/"
        },
        "id": "Glacx3Lyixtm",
        "outputId": "627fb456-24b1-48ae-e12a-cc51c1d0848f"
      },
      "source": [
        "print(\"[INFO] training network...\")\n",
        "H = model.fit(\n",
        "\taug.flow(trainX, trainY, batch_size=BS),\n",
        "\tvalidation_data=(testX, testY),\n",
        "\tsteps_per_epoch=len(trainX) // BS,\n",
        "\tepochs=EPOCHS,\n",
        "\tclass_weight=classWeight,\n",
        "\tverbose=1)"
      ],
      "execution_count": 18,
      "outputs": [
        {
          "output_type": "stream",
          "name": "stdout",
          "text": [
            "[INFO] training network...\n",
            "Epoch 1/50\n",
            "2765/2765 [==============================] - 222s 72ms/step - loss: 1.8578 - accuracy: 0.8702 - val_loss: 0.5750 - val_accuracy: 0.8828\n",
            "Epoch 2/50\n",
            "2765/2765 [==============================] - 204s 74ms/step - loss: 0.9339 - accuracy: 0.9291 - val_loss: 0.5739 - val_accuracy: 0.8752\n",
            "Epoch 3/50\n",
            "2765/2765 [==============================] - 199s 72ms/step - loss: 0.8571 - accuracy: 0.9352 - val_loss: 0.5406 - val_accuracy: 0.8945\n",
            "Epoch 4/50\n",
            "2765/2765 [==============================] - 200s 72ms/step - loss: 0.8103 - accuracy: 0.9391 - val_loss: 0.5594 - val_accuracy: 0.8881\n",
            "Epoch 5/50\n",
            "2765/2765 [==============================] - 198s 72ms/step - loss: 0.7870 - accuracy: 0.9405 - val_loss: 0.5374 - val_accuracy: 0.8915\n",
            "Epoch 6/50\n",
            "2765/2765 [==============================] - 206s 75ms/step - loss: 0.7674 - accuracy: 0.9424 - val_loss: 0.5555 - val_accuracy: 0.8805\n",
            "Epoch 7/50\n",
            "2765/2765 [==============================] - 200s 72ms/step - loss: 0.7485 - accuracy: 0.9441 - val_loss: 0.5096 - val_accuracy: 0.8999\n",
            "Epoch 8/50\n",
            "2765/2765 [==============================] - 202s 73ms/step - loss: 0.7344 - accuracy: 0.9460 - val_loss: 0.5051 - val_accuracy: 0.9039\n",
            "Epoch 9/50\n",
            "2765/2765 [==============================] - 203s 73ms/step - loss: 0.7220 - accuracy: 0.9478 - val_loss: 0.4880 - val_accuracy: 0.9099\n",
            "Epoch 10/50\n",
            "2765/2765 [==============================] - 199s 72ms/step - loss: 0.7126 - accuracy: 0.9488 - val_loss: 0.4603 - val_accuracy: 0.9253\n",
            "Epoch 11/50\n",
            "2765/2765 [==============================] - 204s 74ms/step - loss: 0.7038 - accuracy: 0.9503 - val_loss: 0.4449 - val_accuracy: 0.9358\n",
            "Epoch 12/50\n",
            "2765/2765 [==============================] - 205s 74ms/step - loss: 0.6950 - accuracy: 0.9520 - val_loss: 0.4582 - val_accuracy: 0.9263\n",
            "Epoch 13/50\n",
            "2765/2765 [==============================] - 200s 72ms/step - loss: 0.6869 - accuracy: 0.9526 - val_loss: 0.4267 - val_accuracy: 0.9452\n",
            "Epoch 14/50\n",
            "2765/2765 [==============================] - 200s 72ms/step - loss: 0.6795 - accuracy: 0.9536 - val_loss: 0.4646 - val_accuracy: 0.9231\n",
            "Epoch 15/50\n",
            "2765/2765 [==============================] - 201s 73ms/step - loss: 0.6709 - accuracy: 0.9541 - val_loss: 0.4329 - val_accuracy: 0.9408\n",
            "Epoch 16/50\n",
            "2765/2765 [==============================] - 203s 74ms/step - loss: 0.6672 - accuracy: 0.9549 - val_loss: 0.4267 - val_accuracy: 0.9448\n",
            "Epoch 17/50\n",
            "2765/2765 [==============================] - 200s 72ms/step - loss: 0.6655 - accuracy: 0.9556 - val_loss: 0.4041 - val_accuracy: 0.9558\n",
            "Epoch 18/50\n",
            "2765/2765 [==============================] - 203s 73ms/step - loss: 0.6598 - accuracy: 0.9560 - val_loss: 0.4086 - val_accuracy: 0.9543\n",
            "Epoch 19/50\n",
            "2765/2765 [==============================] - 204s 74ms/step - loss: 0.6519 - accuracy: 0.9570 - val_loss: 0.4049 - val_accuracy: 0.9564\n",
            "Epoch 20/50\n",
            "2765/2765 [==============================] - 206s 75ms/step - loss: 0.6517 - accuracy: 0.9566 - val_loss: 0.4067 - val_accuracy: 0.9542\n",
            "Epoch 21/50\n",
            "2765/2765 [==============================] - 206s 74ms/step - loss: 0.6445 - accuracy: 0.9577 - val_loss: 0.4017 - val_accuracy: 0.9567\n",
            "Epoch 22/50\n",
            "2765/2765 [==============================] - 205s 74ms/step - loss: 0.6392 - accuracy: 0.9585 - val_loss: 0.4030 - val_accuracy: 0.9560\n",
            "Epoch 23/50\n",
            "2765/2765 [==============================] - 201s 73ms/step - loss: 0.6386 - accuracy: 0.9591 - val_loss: 0.3869 - val_accuracy: 0.9636\n",
            "Epoch 24/50\n",
            "2765/2765 [==============================] - 206s 74ms/step - loss: 0.6365 - accuracy: 0.9588 - val_loss: 0.3955 - val_accuracy: 0.9591\n",
            "Epoch 25/50\n",
            "2765/2765 [==============================] - 200s 72ms/step - loss: 0.6295 - accuracy: 0.9602 - val_loss: 0.4092 - val_accuracy: 0.9521\n",
            "Epoch 26/50\n",
            "2765/2765 [==============================] - 199s 72ms/step - loss: 0.6308 - accuracy: 0.9595 - val_loss: 0.3899 - val_accuracy: 0.9619\n",
            "Epoch 27/50\n",
            "2765/2765 [==============================] - 203s 73ms/step - loss: 0.6266 - accuracy: 0.9600 - val_loss: 0.3851 - val_accuracy: 0.9639\n",
            "Epoch 28/50\n",
            "2765/2765 [==============================] - 202s 73ms/step - loss: 0.6227 - accuracy: 0.9607 - val_loss: 0.3834 - val_accuracy: 0.9644\n",
            "Epoch 29/50\n",
            "2765/2765 [==============================] - 201s 73ms/step - loss: 0.6210 - accuracy: 0.9610 - val_loss: 0.3840 - val_accuracy: 0.9631\n",
            "Epoch 30/50\n",
            "2765/2765 [==============================] - 204s 74ms/step - loss: 0.6178 - accuracy: 0.9610 - val_loss: 0.3802 - val_accuracy: 0.9652\n",
            "Epoch 31/50\n",
            "2765/2765 [==============================] - 204s 74ms/step - loss: 0.6173 - accuracy: 0.9614 - val_loss: 0.3896 - val_accuracy: 0.9616\n",
            "Epoch 32/50\n",
            "2765/2765 [==============================] - 200s 72ms/step - loss: 0.6126 - accuracy: 0.9618 - val_loss: 0.3738 - val_accuracy: 0.9673\n",
            "Epoch 33/50\n",
            "2765/2765 [==============================] - 199s 72ms/step - loss: 0.6128 - accuracy: 0.9618 - val_loss: 0.3772 - val_accuracy: 0.9666\n",
            "Epoch 34/50\n",
            "2765/2765 [==============================] - 204s 74ms/step - loss: 0.6104 - accuracy: 0.9623 - val_loss: 0.3777 - val_accuracy: 0.9660\n",
            "Epoch 35/50\n",
            "2765/2765 [==============================] - 202s 73ms/step - loss: 0.6056 - accuracy: 0.9635 - val_loss: 0.3855 - val_accuracy: 0.9628\n",
            "Epoch 36/50\n",
            "2765/2765 [==============================] - 204s 74ms/step - loss: 0.6036 - accuracy: 0.9628 - val_loss: 0.3754 - val_accuracy: 0.9661\n",
            "Epoch 37/50\n",
            "2765/2765 [==============================] - 200s 72ms/step - loss: 0.6032 - accuracy: 0.9630 - val_loss: 0.3800 - val_accuracy: 0.9649\n",
            "Epoch 38/50\n",
            "2765/2765 [==============================] - 200s 72ms/step - loss: 0.6053 - accuracy: 0.9630 - val_loss: 0.3716 - val_accuracy: 0.9686\n",
            "Epoch 39/50\n",
            "2765/2765 [==============================] - 201s 73ms/step - loss: 0.6005 - accuracy: 0.9635 - val_loss: 0.3686 - val_accuracy: 0.9694\n",
            "Epoch 40/50\n",
            "2765/2765 [==============================] - 204s 74ms/step - loss: 0.5983 - accuracy: 0.9635 - val_loss: 0.3843 - val_accuracy: 0.9616\n",
            "Epoch 41/50\n",
            "2765/2765 [==============================] - 201s 73ms/step - loss: 0.5957 - accuracy: 0.9639 - val_loss: 0.3774 - val_accuracy: 0.9655\n",
            "Epoch 42/50\n",
            "2765/2765 [==============================] - 200s 72ms/step - loss: 0.5946 - accuracy: 0.9643 - val_loss: 0.3709 - val_accuracy: 0.9676\n",
            "Epoch 43/50\n",
            "2765/2765 [==============================] - 204s 74ms/step - loss: 0.5934 - accuracy: 0.9643 - val_loss: 0.3719 - val_accuracy: 0.9674\n",
            "Epoch 44/50\n",
            "2765/2765 [==============================] - 204s 74ms/step - loss: 0.5910 - accuracy: 0.9643 - val_loss: 0.3761 - val_accuracy: 0.9657\n",
            "Epoch 45/50\n",
            "2765/2765 [==============================] - 204s 74ms/step - loss: 0.5907 - accuracy: 0.9651 - val_loss: 0.3659 - val_accuracy: 0.9697\n",
            "Epoch 46/50\n",
            "2765/2765 [==============================] - 204s 74ms/step - loss: 0.5894 - accuracy: 0.9649 - val_loss: 0.3612 - val_accuracy: 0.9716\n",
            "Epoch 47/50\n",
            "2765/2765 [==============================] - 205s 74ms/step - loss: 0.5846 - accuracy: 0.9653 - val_loss: 0.3647 - val_accuracy: 0.9701\n",
            "Epoch 48/50\n",
            "2765/2765 [==============================] - 201s 73ms/step - loss: 0.5865 - accuracy: 0.9652 - val_loss: 0.3636 - val_accuracy: 0.9702\n",
            "Epoch 49/50\n",
            "2765/2765 [==============================] - 200s 72ms/step - loss: 0.5808 - accuracy: 0.9656 - val_loss: 0.3669 - val_accuracy: 0.9688\n",
            "Epoch 50/50\n",
            "2765/2765 [==============================] - 201s 73ms/step - loss: 0.5815 - accuracy: 0.9658 - val_loss: 0.3802 - val_accuracy: 0.9634\n"
          ]
        }
      ]
    },
    {
      "cell_type": "markdown",
      "metadata": {
        "id": "MdrIhgMh2wr3"
      },
      "source": [
        "##Evaluate model"
      ]
    },
    {
      "cell_type": "code",
      "metadata": {
        "colab": {
          "base_uri": "https://localhost:8080/"
        },
        "id": "xCTvcXWNTyAF",
        "outputId": "27d7168e-84e9-4b5e-88ac-05d369254fdf"
      },
      "source": [
        "# define the list of label names\n",
        "labelNames = \"0123456789\"\n",
        "labelNames += \"ABCDEFGHIJKLMNOPQRSTUVWXYZ\"\n",
        "labelNames = [l for l in labelNames]\n",
        "# evaluate the network\n",
        "print(\"[INFO] evaluating network...\")\n",
        "predictions = model.predict(testX, batch_size=BS)\n",
        "print(classification_report(testY.argmax(axis=1),\n",
        "\tpredictions.argmax(axis=1), target_names=labelNames))"
      ],
      "execution_count": 19,
      "outputs": [
        {
          "output_type": "stream",
          "name": "stdout",
          "text": [
            "[INFO] evaluating network...\n",
            "              precision    recall  f1-score   support\n",
            "\n",
            "           0       0.51      0.63      0.56      1381\n",
            "           1       0.98      0.99      0.98      1575\n",
            "           2       0.92      0.96      0.94      1398\n",
            "           3       0.98      1.00      0.99      1428\n",
            "           4       0.94      0.98      0.96      1365\n",
            "           5       0.68      0.95      0.79      1263\n",
            "           6       0.96      0.98      0.97      1375\n",
            "           7       0.97      0.99      0.98      1459\n",
            "           8       0.96      0.99      0.98      1365\n",
            "           9       0.98      0.98      0.98      1392\n",
            "           A       0.99      0.99      0.99      2774\n",
            "           B       0.99      0.99      0.99      1734\n",
            "           C       1.00      0.98      0.99      4682\n",
            "           D       0.90      0.99      0.94      2027\n",
            "           E       0.99      0.99      0.99      2288\n",
            "           F       0.96      0.99      0.98       232\n",
            "           G       0.97      0.95      0.96      1152\n",
            "           H       0.98      0.98      0.98      1444\n",
            "           I       0.99      0.99      0.99       224\n",
            "           J       0.98      0.97      0.98      1699\n",
            "           K       0.98      0.99      0.98      1121\n",
            "           L       0.98      0.99      0.98      2317\n",
            "           M       0.99      0.99      0.99      2467\n",
            "           N       0.99      0.99      0.99      3802\n",
            "           O       0.95      0.91      0.93     11565\n",
            "           P       1.00      0.99      0.99      3868\n",
            "           Q       0.96      0.98      0.97      1162\n",
            "           R       0.99      0.99      0.99      2313\n",
            "           S       0.99      0.94      0.96      9684\n",
            "           T       1.00      0.99      0.99      4499\n",
            "           U       0.99      0.99      0.99      5802\n",
            "           V       0.98      1.00      0.99       836\n",
            "           W       0.99      0.99      0.99      2157\n",
            "           X       0.98      1.00      0.99      1254\n",
            "           Y       0.99      0.96      0.97      2172\n",
            "           Z       0.96      0.93      0.94      1215\n",
            "\n",
            "    accuracy                           0.96     88491\n",
            "   macro avg       0.95      0.97      0.96     88491\n",
            "weighted avg       0.97      0.96      0.96     88491\n",
            "\n"
          ]
        }
      ]
    },
    {
      "cell_type": "markdown",
      "metadata": {
        "id": "OziuAiT_2-AP"
      },
      "source": [
        "##Save model"
      ]
    },
    {
      "cell_type": "code",
      "metadata": {
        "id": "v6AcN_nxT86d"
      },
      "source": [
        "model.save('OCR_Resnet.h5',save_format=\".h5\")"
      ],
      "execution_count": 20,
      "outputs": []
    },
    {
      "cell_type": "code",
      "metadata": {
        "colab": {
          "base_uri": "https://localhost:8080/"
        },
        "id": "GuiHqBmFR_Xb",
        "outputId": "e08263c8-cba4-46ae-c673-ccdf396cdfb9"
      },
      "source": [
        "model.save('/gdrive/MyDrive/OCR/',save_format=\".keras\")"
      ],
      "execution_count": 21,
      "outputs": [
        {
          "output_type": "stream",
          "name": "stdout",
          "text": [
            "INFO:tensorflow:Assets written to: /gdrive/MyDrive/OCR/assets\n"
          ]
        }
      ]
    },
    {
      "cell_type": "code",
      "source": [
        "!cp OCR_Resnet.h5 '/gdrive/MyDrive/OCR/'"
      ],
      "metadata": {
        "id": "FNW_A3ja2_Bq"
      },
      "execution_count": 22,
      "outputs": []
    },
    {
      "cell_type": "markdown",
      "metadata": {
        "id": "S0qihkdN26MC"
      },
      "source": [
        "##Load model"
      ]
    },
    {
      "cell_type": "code",
      "metadata": {
        "colab": {
          "base_uri": "https://localhost:8080/"
        },
        "id": "wjFlj3pBTz08",
        "outputId": "2fd1fee2-f792-4fd4-f489-97ea0ba992f0"
      },
      "source": [
        "# save the model to disk\n",
        "print(\"[INFO] serializing network...\")\n",
        "#model.save('first_model', save_format=\"h5\")\n",
        "# construct a plot that plots and saves the training history\n",
        "N = np.arange(0, EPOCHS)\n",
        "plt.style.use(\"ggplot\")\n",
        "plt.figure()\n",
        "plt.plot(N, H.history[\"loss\"], label=\"train_loss\")\n",
        "plt.plot(N, H.history[\"val_loss\"], label=\"val_loss\")\n",
        "plt.title(\"Training Loss and Accuracy\")\n",
        "plt.xlabel(\"Epoch #\")\n",
        "plt.ylabel(\"Loss/Accuracy\")\n",
        "plt.legend(loc=\"lower left\")\n",
        "plt.show()\n",
        "#plt.savefig('plot')"
      ],
      "execution_count": 23,
      "outputs": [
        {
          "output_type": "stream",
          "name": "stdout",
          "text": [
            "[INFO] serializing network...\n"
          ]
        }
      ]
    },
    {
      "cell_type": "markdown",
      "metadata": {
        "id": "x-PTc1uS3OdW"
      },
      "source": [
        "##Output"
      ]
    },
    {
      "cell_type": "code",
      "metadata": {
        "colab": {
          "base_uri": "https://localhost:8080/",
          "height": 706
        },
        "id": "UBxg2Viypqyo",
        "outputId": "00e920fe-58ae-4a60-c317-0d7b1ff31aa1"
      },
      "source": [
        "output = \"\"\n",
        "images = []\n",
        "# randomly select a few testing characters\n",
        "for i in np.random.choice(np.arange(0, len(testY)), size=(49,)):\n",
        "  probs = model.predict(testX[np.newaxis, i])\n",
        "  prediction = probs.argmax(axis=1)\n",
        "  label = labelNames[prediction[0]]\n",
        "  output+=label\n",
        "  image = (testX[i] * 255).astype(\"uint8\")\n",
        "  color = (0, 255, 0)\n",
        "  if prediction[0] != np.argmax(testY[i]):\n",
        "    color = (0, 0, 255)\n",
        "  image = cv2.merge([image] * 3)\n",
        "  image = cv2.resize(image, (96, 96), interpolation=cv2.INTER_LINEAR)\n",
        "  cv2.putText(image, label, (5, 20), cv2.FONT_HERSHEY_SIMPLEX, 0.75,\n",
        "\t\tcolor, 2)\n",
        "  images.append(image)\n",
        "montage = build_montages(images, (96, 96), (7, 7))[0]\n",
        "cv2_imshow(montage)\n",
        "cv2.waitKey(0)\n"
      ],
      "execution_count": 27,
      "outputs": [
        {
          "output_type": "display_data",
          "data": {
            "text/plain": [
              "<PIL.Image.Image image mode=RGB size=672x672 at 0x7F60DC143710>"
            ],
            "image/png": "[encoded data removed]"
          },
          "metadata": {}
        },
        {
          "output_type": "execute_result",
          "data": {
            "text/plain": [
              "-1"
            ]
          },
          "metadata": {},
          "execution_count": 27
        }
      ]
    },
    {
      "cell_type": "code",
      "metadata": {
        "colab": {
          "base_uri": "https://localhost:8080/",
          "height": 35
        },
        "id": "eagfw25esQBt",
        "outputId": "751885f0-d803-4250-aa90-7ce59580baab"
      },
      "source": [
        "output"
      ],
      "execution_count": 28,
      "outputs": [
        {
          "output_type": "execute_result",
          "data": {
            "text/plain": [
              "'SUSNLS7BX8OTU76EOX1CCEUQ89OUS81DYCORPX9UUUO16S5PS'"
            ],
            "application/vnd.google.colaboratory.intrinsic+json": {
              "type": "string"
            }
          },
          "metadata": {},
          "execution_count": 28
        }
      ]
    },
    {
      "cell_type": "markdown",
      "metadata": {
        "id": "BIipX07-todv"
      },
      "source": [
        "##For Deployment"
      ]
    },
    {
      "cell_type": "code",
      "metadata": {
        "id": "IEne2n03tgjE"
      },
      "source": [
        "images = []\n",
        "# randomly select a few testing characters\n",
        "for i in np.random.choice(np.arange(0, len(testY)), size=(49,)):\n",
        "  probs = model.predict(testX[np.newaxis, i])\n",
        "  prediction = probs.argmax(axis=1)\n",
        "  label = labelNames[prediction[0]]\n",
        "  output+=label\n",
        "  \"\"\"image = (testX[i] * 255).astype(\"uint8\")\n",
        "  color = (0, 255, 0)\n",
        "  if prediction[0] != np.argmax(testY[i]):\n",
        "    color = (0, 0, 255)\n",
        "  image = cv2.merge([image] * 3)\n",
        "  image = cv2.resize(image, (96, 96), interpolation=cv2.INTER_LINEAR)\n",
        "  cv2.putText(image, label, (5, 20), cv2.FONT_HERSHEY_SIMPLEX, 0.75,\n",
        "\t\tcolor, 2)\n",
        "  images.append(image)\n",
        "montage = build_montages(images, (96, 96), (7, 7))[0]\n",
        "cv2_imshow(montage)\n",
        "cv2.waitKey(0)\"\"\""
      ],
      "execution_count": 29,
      "outputs": []
    },
    {
      "cell_type": "code",
      "metadata": {
        "colab": {
          "base_uri": "https://localhost:8080/",
          "height": 35
        },
        "id": "3U0GsnlIt92K",
        "outputId": "2e471c75-d70e-42a8-9cba-e16466ee81ed"
      },
      "source": [
        "output"
      ],
      "execution_count": 30,
      "outputs": [
        {
          "output_type": "execute_result",
          "data": {
            "text/plain": [
              "'SUSNLS7BX8OTU76EOX1CCEUQ89OUS81DYCORPX9UUUO16S5PSSN97AS9OOSN9SSDSEOYU2DN3ACWSL7LO1WBOU3SSOQR0MOTW3'"
            ],
            "application/vnd.google.colaboratory.intrinsic+json": {
              "type": "string"
            }
          },
          "metadata": {},
          "execution_count": 30
        }
      ]
    },
    {
      "cell_type": "code",
      "metadata": {
        "id": "lUnXQqNNU4S1"
      },
      "source": [
        "from tensorflow.keras.models import load_model\n",
        "from imutils.contours import sort_contours\n",
        "import numpy as np\n",
        "import argparse\n",
        "import imutils\n",
        "import cv2"
      ],
      "execution_count": 31,
      "outputs": []
    },
    {
      "cell_type": "code",
      "metadata": {
        "id": "9VxtiojWVUGA"
      },
      "source": [
        "loaded_model = load_model('/gdrive/MyDrive/OCR/OCR_Resnet.h5')"
      ],
      "execution_count": 32,
      "outputs": []
    },
    {
      "cell_type": "code",
      "metadata": {
        "id": "Yeex_gyYVerW"
      },
      "source": [
        "image = cv2.imread('/gdrive/MyDrive/OCR/crop_small/Tobacco_0.2899999917.png')"
      ],
      "execution_count": 107,
      "outputs": []
    },
    {
      "cell_type": "code",
      "source": [
        "image.shape"
      ],
      "metadata": {
        "colab": {
          "base_uri": "https://localhost:8080/"
        },
        "id": "6abPzrDH8n0U",
        "outputId": "cc53347e-96d9-49c3-b417-8d8385763a82"
      },
      "execution_count": 108,
      "outputs": [
        {
          "output_type": "execute_result",
          "data": {
            "text/plain": [
              "(10, 48, 3)"
            ]
          },
          "metadata": {},
          "execution_count": 108
        }
      ]
    },
    {
      "cell_type": "code",
      "metadata": {
        "id": "o09Kqt05VwjO"
      },
      "source": [
        "gray = cv2.cvtColor(image, cv2.COLOR_BGR2GRAY)\n",
        "blurred = cv2.GaussianBlur(gray, (5, 5), 0)\n"
      ],
      "execution_count": 109,
      "outputs": []
    },
    {
      "cell_type": "code",
      "metadata": {
        "id": "mkSTA-4tV0_j"
      },
      "source": [
        "edged = cv2.Canny(gray, 20, 50)\n",
        "cnts = cv2.findContours(edged.copy(), cv2.RETR_EXTERNAL,\n",
        "\tcv2.CHAIN_APPROX_SIMPLE)\n",
        "cnts = imutils.grab_contours(cnts)\n",
        "cnts = sort_contours(cnts, method=\"left-to-right\")[0]"
      ],
      "execution_count": 112,
      "outputs": []
    },
    {
      "cell_type": "code",
      "source": [
        "cv2_imshow(edged)\n",
        "cv2.waitKey(0)\n",
        "print(cnts)"
      ],
      "metadata": {
        "colab": {
          "base_uri": "https://localhost:8080/",
          "height": 1000
        },
        "id": "1Gk7a1i9DmVh",
        "outputId": "8b68405e-6083-4675-df49-1db565a77ca0"
      },
      "execution_count": 114,
      "outputs": [
        {
          "output_type": "display_data",
          "data": {
            "text/plain": [
              "<PIL.Image.Image image mode=L size=48x10 at 0x7F604AF1A8D0>"
            ],
            "image/png": "[encoded data removed]"
          },
          "metadata": {}
        },
        {
          "output_type": "stream",
          "name": "stdout",
          "text": [
            "(array([[[2, 0]],\n",
            "\n",
            "       [[1, 1]],\n",
            "\n",
            "       [[0, 1]],\n",
            "\n",
            "       [[1, 1]],\n",
            "\n",
            "       [[2, 0]],\n",
            "\n",
            "       [[3, 1]],\n",
            "\n",
            "       [[4, 0]],\n",
            "\n",
            "       [[6, 2]],\n",
            "\n",
            "       [[5, 3]],\n",
            "\n",
            "       [[0, 3]],\n",
            "\n",
            "       [[1, 3]],\n",
            "\n",
            "       [[2, 4]],\n",
            "\n",
            "       [[2, 7]],\n",
            "\n",
            "       [[1, 8]],\n",
            "\n",
            "       [[1, 9]],\n",
            "\n",
            "       [[1, 8]],\n",
            "\n",
            "       [[2, 7]],\n",
            "\n",
            "       [[2, 4]],\n",
            "\n",
            "       [[3, 3]],\n",
            "\n",
            "       [[4, 4]],\n",
            "\n",
            "       [[4, 7]],\n",
            "\n",
            "       [[5, 8]],\n",
            "\n",
            "       [[5, 7]],\n",
            "\n",
            "       [[4, 6]],\n",
            "\n",
            "       [[4, 4]],\n",
            "\n",
            "       [[5, 3]],\n",
            "\n",
            "       [[6, 3]],\n",
            "\n",
            "       [[6, 1]],\n",
            "\n",
            "       [[5, 1]],\n",
            "\n",
            "       [[4, 0]],\n",
            "\n",
            "       [[3, 1]]], dtype=int32), array([[[3, 9]]], dtype=int32), array([[[ 7,  5]],\n",
            "\n",
            "       [[ 8,  6]],\n",
            "\n",
            "       [[ 7,  7]],\n",
            "\n",
            "       [[ 7,  8]],\n",
            "\n",
            "       [[ 8,  9]],\n",
            "\n",
            "       [[ 7,  8]],\n",
            "\n",
            "       [[ 7,  7]],\n",
            "\n",
            "       [[ 8,  6]],\n",
            "\n",
            "       [[10,  8]],\n",
            "\n",
            "       [[11,  7]],\n",
            "\n",
            "       [[12,  8]],\n",
            "\n",
            "       [[12,  9]],\n",
            "\n",
            "       [[12,  8]],\n",
            "\n",
            "       [[11,  7]],\n",
            "\n",
            "       [[11,  6]],\n",
            "\n",
            "       [[10,  5]],\n",
            "\n",
            "       [[ 9,  5]],\n",
            "\n",
            "       [[ 8,  6]]], dtype=int32), array([[[ 8,  3]],\n",
            "\n",
            "       [[11,  3]],\n",
            "\n",
            "       [[12,  4]],\n",
            "\n",
            "       [[12,  3]]], dtype=int32), array([[[14,  1]],\n",
            "\n",
            "       [[14,  7]],\n",
            "\n",
            "       [[15,  8]],\n",
            "\n",
            "       [[15,  9]],\n",
            "\n",
            "       [[15,  8]],\n",
            "\n",
            "       [[16,  7]],\n",
            "\n",
            "       [[16,  6]],\n",
            "\n",
            "       [[17,  5]],\n",
            "\n",
            "       [[18,  6]],\n",
            "\n",
            "       [[18,  7]],\n",
            "\n",
            "       [[18,  6]],\n",
            "\n",
            "       [[17,  5]],\n",
            "\n",
            "       [[16,  5]],\n",
            "\n",
            "       [[16,  7]],\n",
            "\n",
            "       [[15,  8]],\n",
            "\n",
            "       [[14,  7]],\n",
            "\n",
            "       [[14,  2]],\n",
            "\n",
            "       [[15,  1]],\n",
            "\n",
            "       [[16,  2]],\n",
            "\n",
            "       [[16,  3]],\n",
            "\n",
            "       [[18,  3]],\n",
            "\n",
            "       [[20,  5]],\n",
            "\n",
            "       [[20,  8]],\n",
            "\n",
            "       [[19,  9]],\n",
            "\n",
            "       [[18,  9]],\n",
            "\n",
            "       [[19,  9]],\n",
            "\n",
            "       [[20,  8]],\n",
            "\n",
            "       [[20,  4]],\n",
            "\n",
            "       [[19,  3]],\n",
            "\n",
            "       [[17,  3]],\n",
            "\n",
            "       [[16,  2]],\n",
            "\n",
            "       [[16,  1]]], dtype=int32), array([[[24,  3]],\n",
            "\n",
            "       [[23,  4]],\n",
            "\n",
            "       [[22,  4]],\n",
            "\n",
            "       [[22,  9]],\n",
            "\n",
            "       [[22,  5]],\n",
            "\n",
            "       [[24,  3]],\n",
            "\n",
            "       [[25,  3]],\n",
            "\n",
            "       [[26,  4]],\n",
            "\n",
            "       [[25,  5]],\n",
            "\n",
            "       [[25,  8]],\n",
            "\n",
            "       [[24,  9]],\n",
            "\n",
            "       [[25,  9]],\n",
            "\n",
            "       [[25,  5]],\n",
            "\n",
            "       [[26,  4]],\n",
            "\n",
            "       [[27,  5]],\n",
            "\n",
            "       [[27,  9]],\n",
            "\n",
            "       [[27,  4]],\n",
            "\n",
            "       [[26,  3]]], dtype=int32), array([[[29,  7]],\n",
            "\n",
            "       [[29,  9]]], dtype=int32), array([[[30,  3]],\n",
            "\n",
            "       [[29,  4]],\n",
            "\n",
            "       [[29,  5]],\n",
            "\n",
            "       [[33,  5]],\n",
            "\n",
            "       [[31,  5]],\n",
            "\n",
            "       [[30,  4]],\n",
            "\n",
            "       [[31,  3]],\n",
            "\n",
            "       [[33,  3]]], dtype=int32), array([[[31,  8]],\n",
            "\n",
            "       [[33,  8]],\n",
            "\n",
            "       [[34,  9]],\n",
            "\n",
            "       [[34,  8]]], dtype=int32), array([[[37,  3]],\n",
            "\n",
            "       [[36,  4]],\n",
            "\n",
            "       [[36,  5]],\n",
            "\n",
            "       [[37,  4]],\n",
            "\n",
            "       [[38,  5]],\n",
            "\n",
            "       [[38,  6]],\n",
            "\n",
            "       [[37,  7]],\n",
            "\n",
            "       [[36,  7]],\n",
            "\n",
            "       [[36,  9]],\n",
            "\n",
            "       [[36,  8]],\n",
            "\n",
            "       [[37,  7]],\n",
            "\n",
            "       [[38,  8]],\n",
            "\n",
            "       [[40,  8]],\n",
            "\n",
            "       [[41,  9]],\n",
            "\n",
            "       [[41,  8]],\n",
            "\n",
            "       [[38,  8]],\n",
            "\n",
            "       [[37,  7]],\n",
            "\n",
            "       [[38,  6]],\n",
            "\n",
            "       [[39,  6]],\n",
            "\n",
            "       [[40,  5]],\n",
            "\n",
            "       [[40,  3]]], dtype=int32), array([[[45,  3]],\n",
            "\n",
            "       [[44,  4]],\n",
            "\n",
            "       [[43,  4]],\n",
            "\n",
            "       [[43,  6]],\n",
            "\n",
            "       [[44,  7]],\n",
            "\n",
            "       [[43,  8]],\n",
            "\n",
            "       [[43,  9]],\n",
            "\n",
            "       [[43,  8]],\n",
            "\n",
            "       [[44,  7]],\n",
            "\n",
            "       [[45,  8]],\n",
            "\n",
            "       [[45,  9]],\n",
            "\n",
            "       [[46,  8]],\n",
            "\n",
            "       [[47,  9]],\n",
            "\n",
            "       [[47,  5]],\n",
            "\n",
            "       [[46,  5]],\n",
            "\n",
            "       [[44,  7]],\n",
            "\n",
            "       [[43,  6]],\n",
            "\n",
            "       [[43,  5]],\n",
            "\n",
            "       [[45,  3]],\n",
            "\n",
            "       [[47,  3]]], dtype=int32))\n"
          ]
        }
      ]
    },
    {
      "cell_type": "code",
      "metadata": {
        "id": "jlZqDArGV3f8"
      },
      "source": [
        "chars = []"
      ],
      "execution_count": 115,
      "outputs": []
    },
    {
      "cell_type": "code",
      "metadata": {
        "id": "4SsH6KoqV5U6",
        "colab": {
          "base_uri": "https://localhost:8080/"
        },
        "outputId": "c70a6e57-e058-407f-f665-14727e0cd4e7"
      },
      "source": [
        "for c in cnts:\n",
        "\t# compute the bounding box of the contour\n",
        "\t(x, y, w, h) = cv2.boundingRect(c)\n",
        "\tprint(x, y, w, h)\n",
        "\t# filter out bounding boxes, ensuring they are neither too small\n",
        "\t# nor too large\n",
        "\n",
        "\n",
        "\t# extract the character and threshold it to make the character\n",
        "\t# appear as *white* (foreground) on a *black* background, then\n",
        "\t# grab the width and height of the thresholded image\n",
        "\troi = gray[y:y + h, x:x + w]\n",
        "\tthresh = cv2.threshold(roi, 0, 255,\tcv2.THRESH_BINARY_INV | cv2.THRESH_OTSU)[1]\n",
        "\t(tH, tW) = thresh.shape\n",
        "\t# if the width is greater than the height, resize along the\n",
        "\t# width dimension\n",
        "\tif tW > tH:\n",
        "\t\tthresh = imutils.resize(thresh, width=32)\n",
        "\t# otherwise, resize along the height\n",
        "\telse:\n",
        "\t\tthresh = imutils.resize(thresh, height=32)\n",
        "\t# re-grab the image dimensions (now that its been resized)\n",
        "\t# and then determine how much we need to pad the width and\n",
        "\t# height such that our image will be 32x32\n",
        "\t(tH, tW) = thresh.shape\n",
        "\tdX = int(max(0, 32 - tW) / 2.0)\n",
        "\tdY = int(max(0, 32 - tH) / 2.0)\n",
        "\t# pad the image and force 32x32 dimensions\n",
        "\tpadded = cv2.copyMakeBorder(thresh, top=dY, bottom=dY,\n",
        "\t\tleft=dX, right=dX, borderType=cv2.BORDER_CONSTANT,\n",
        "\t\tvalue=(0, 0, 0))\n",
        "\tpadded = cv2.resize(padded, (32, 32))\n",
        "\t# prepare the padded image for classification via our\n",
        "\t# handwriting OCR model\n",
        "\tpadded = padded.astype(\"float32\") / 255.0\n",
        "\tpadded = np.expand_dims(padded, axis=-1)\n",
        "\t# update our list of characters that will be OCR'd\n",
        "\tchars.append((padded, (x, y, w, h)))"
      ],
      "execution_count": 116,
      "outputs": [
        {
          "output_type": "stream",
          "name": "stdout",
          "text": [
            "0 0 7 10\n",
            "3 9 1 1\n",
            "7 5 6 5\n",
            "8 3 5 2\n",
            "14 1 7 9\n",
            "22 3 6 7\n",
            "29 7 1 3\n",
            "29 3 5 3\n",
            "31 8 4 2\n",
            "36 3 6 7\n",
            "43 3 5 7\n"
          ]
        }
      ]
    },
    {
      "cell_type": "code",
      "metadata": {
        "id": "UeM4bg2gV8Za"
      },
      "source": [
        "boxes = [b[1] for b in chars]\n",
        "chars = np.array([c[0] for c in chars], dtype=\"float32\")\n",
        "# OCR the characters using our handwriting recognition model\n",
        "preds = loaded_model.predict(chars)\n",
        "# define the list of label names\n",
        "labelNames = \"0123456789\"\n",
        "labelNames += \"ABCDEFGHIJKLMNOPQRSTUVWXYZ\"\n",
        "labelNames = [l for l in labelNames]\n"
      ],
      "execution_count": 117,
      "outputs": []
    },
    {
      "cell_type": "code",
      "metadata": {
        "id": "XyiWpkUjWocp"
      },
      "source": [
        "output=\"\""
      ],
      "execution_count": 118,
      "outputs": []
    },
    {
      "cell_type": "code",
      "metadata": {
        "colab": {
          "base_uri": "https://localhost:8080/",
          "height": 399
        },
        "id": "BEoPaWCrWDH6",
        "outputId": "b23321eb-fc80-41e9-9a60-cf2a89f9931e"
      },
      "source": [
        "for (pred, (x, y, w, h)) in zip(preds, boxes):\n",
        "  i = np.argmax(pred)\n",
        "  prob = pred[i]\n",
        "  label = labelNames[i]\n",
        "  output+=label\n",
        "  print(\"[INFO] {} - {:.2f}%\".format(label, prob * 100))\n",
        "  cv2.rectangle(image, (x, y), (x + w, y + h), (0, 255, 0), 2)\n",
        "  cv2.putText(image, label, (x - 10, y - 10),cv2.FONT_HERSHEY_SIMPLEX, 1.2, (0, 255, 0), 2)\n",
        "  cv2_imshow(image)\n",
        "  cv2.waitKey(0)"
      ],
      "execution_count": 119,
      "outputs": [
        {
          "output_type": "stream",
          "name": "stdout",
          "text": [
            "[INFO] I - 97.00%\n"
          ]
        },
        {
          "output_type": "display_data",
          "data": {
            "text/plain": [
              "<PIL.Image.Image image mode=RGB size=48x10 at 0x7F604AF01910>"
            ],
            "image/png": "[encoded data removed]"
          },
          "metadata": {}
        },
        {
          "output_type": "stream",
          "name": "stdout",
          "text": [
            "[INFO] T - 94.75%\n"
          ]
        },
        {
          "output_type": "display_data",
          "data": {
            "text/plain": [
              "<PIL.Image.Image image mode=RGB size=48x10 at 0x7F604AEFEBD0>"
            ],
            "image/png": "[encoded data removed]"
          },
          "metadata": {}
        },
        {
          "output_type": "stream",
          "name": "stdout",
          "text": [
            "[INFO] 8 - 65.67%\n"
          ]
        },
        {
          "output_type": "display_data",
          "data": {
            "text/plain": [
              "<PIL.Image.Image image mode=RGB size=48x10 at 0x7F604AEFE610>"
            ],
            "image/png": "[encoded data removed]"
          },
          "metadata": {}
        },
        {
          "output_type": "stream",
          "name": "stdout",
          "text": [
            "[INFO] Z - 72.29%\n"
          ]
        },
        {
          "output_type": "display_data",
          "data": {
            "text/plain": [
              "<PIL.Image.Image image mode=RGB size=48x10 at 0x7F604AEFE9D0>"
            ],
            "image/png": "[encoded data removed]"
          },
          "metadata": {}
        },
        {
          "output_type": "stream",
          "name": "stdout",
          "text": [
            "[INFO] B - 51.80%\n"
          ]
        },
        {
          "output_type": "display_data",
          "data": {
            "text/plain": [
              "<PIL.Image.Image image mode=RGB size=48x10 at 0x7F604AEFEC50>"
            ],
            "image/png": "[encoded data removed]"
          },
          "metadata": {}
        },
        {
          "output_type": "stream",
          "name": "stdout",
          "text": [
            "[INFO] 8 - 91.29%\n"
          ]
        },
        {
          "output_type": "display_data",
          "data": {
            "text/plain": [
              "<PIL.Image.Image image mode=RGB size=48x10 at 0x7F604AEFE050>"
            ],
            "image/png": "[encoded data removed]"
          },
          "metadata": {}
        },
        {
          "output_type": "stream",
          "name": "stdout",
          "text": [
            "[INFO] B - 23.31%\n"
          ]
        },
        {
          "output_type": "display_data",
          "data": {
            "text/plain": [
              "<PIL.Image.Image image mode=RGB size=48x10 at 0x7F604AEFE1D0>"
            ],
            "image/png": "[encoded data removed]"
          },
          "metadata": {}
        },
        {
          "output_type": "stream",
          "name": "stdout",
          "text": [
            "[INFO] M - 31.18%\n"
          ]
        },
        {
          "output_type": "display_data",
          "data": {
            "text/plain": [
              "<PIL.Image.Image image mode=RGB size=48x10 at 0x7F604AEFEB10>"
            ],
            "image/png": "[encoded data removed]"
          },
          "metadata": {}
        },
        {
          "output_type": "stream",
          "name": "stdout",
          "text": [
            "[INFO] Z - 40.14%\n"
          ]
        },
        {
          "output_type": "display_data",
          "data": {
            "text/plain": [
              "<PIL.Image.Image image mode=RGB size=48x10 at 0x7F604AEFEB90>"
            ],
            "image/png": "[encoded data removed]"
          },
          "metadata": {}
        },
        {
          "output_type": "stream",
          "name": "stdout",
          "text": [
            "[INFO] 3 - 56.18%\n"
          ]
        },
        {
          "output_type": "display_data",
          "data": {
            "text/plain": [
              "<PIL.Image.Image image mode=RGB size=48x10 at 0x7F604AEFE350>"
            ],
            "image/png": "[encoded data removed]"
          },
          "metadata": {}
        },
        {
          "output_type": "stream",
          "name": "stdout",
          "text": [
            "[INFO] B - 84.91%\n"
          ]
        },
        {
          "output_type": "display_data",
          "data": {
            "text/plain": [
              "<PIL.Image.Image image mode=RGB size=48x10 at 0x7F604AEFE990>"
            ],
            "image/png": "[encoded data removed]"
          },
          "metadata": {}
        }
      ]
    },
    {
      "cell_type": "code",
      "metadata": {
        "colab": {
          "base_uri": "https://localhost:8080/",
          "height": 35
        },
        "id": "X9CYE0t3WSSP",
        "outputId": "80de786b-0917-462a-9065-35ca0f25569b"
      },
      "source": [
        "output"
      ],
      "execution_count": 106,
      "outputs": [
        {
          "output_type": "execute_result",
          "data": {
            "text/plain": [
              "'IT8ZB8BMZ3B'"
            ],
            "application/vnd.google.colaboratory.intrinsic+json": {
              "type": "string"
            }
          },
          "metadata": {},
          "execution_count": 106
        }
      ]
    },
    {
      "cell_type": "code",
      "metadata": {
        "id": "H7PDH9rLXcLH"
      },
      "source": [
        ""
      ],
      "execution_count": null,
      "outputs": []
    }
  ]
}